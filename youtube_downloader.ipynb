{
 "cells": [
  {
   "cell_type": "code",
   "execution_count": 1,
   "id": "6a9f21e0",
   "metadata": {},
   "outputs": [],
   "source": [
    "#import library \n",
    "from pytube import YouTube"
   ]
  },
  {
   "cell_type": "code",
   "execution_count": 2,
   "id": "d826c56e",
   "metadata": {},
   "outputs": [
    {
     "name": "stdout",
     "output_type": "stream",
     "text": [
      "Enter the YouTube video URL: https://www.youtube.com/watch?v=0HZpFOmInLs\n",
      "Download is completed successfully\n"
     ]
    }
   ],
   "source": [
    "def YouTubeDownloader(link):\n",
    "    youtubeObject = YouTube(link)\n",
    "    youtubeObject = youtubeObject.streams.get_highest_resolution()\n",
    "    try:\n",
    "        youtubeObject.download()\n",
    "    except:\n",
    "        print(\"Error: Unable to download\")\n",
    "    print(\"Download is completed successfully\")\n",
    "\n",
    "\n",
    "link = input(\"Enter the YouTube video URL: \")\n",
    "YouTubeDownloader(link)"
   ]
  },
  {
   "cell_type": "code",
   "execution_count": null,
   "id": "da33b993",
   "metadata": {},
   "outputs": [],
   "source": []
  }
 ],
 "metadata": {
  "kernelspec": {
   "display_name": "Python 3",
   "language": "python",
   "name": "python3"
  },
  "language_info": {
   "codemirror_mode": {
    "name": "ipython",
    "version": 3
   },
   "file_extension": ".py",
   "mimetype": "text/x-python",
   "name": "python",
   "nbconvert_exporter": "python",
   "pygments_lexer": "ipython3",
   "version": "3.8.8"
  }
 },
 "nbformat": 4,
 "nbformat_minor": 5
}
